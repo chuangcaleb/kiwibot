{
 "cells": [
  {
   "cell_type": "markdown",
   "metadata": {},
   "source": [
    "# **HAI Coursework 1: AN INTERACTIVE NLP-BASED AI SYSTEM**\n",
    "\n",
    "## Project Title: Chatbot Assistant for Computer Programmers\n",
    "\n",
    "20204134 Chuang Caleb hcycc2\n",
    "\n",
    "BSc Hons Computer Science with Artificial Intelligence\n",
    "\n",
    "---\n"
   ]
  },
  {
   "cell_type": "markdown",
   "metadata": {},
   "source": [
    "## **INITIALIZATION**\n",
    "\n",
    "### Imports"
   ]
  },
  {
   "cell_type": "code",
   "execution_count": 8,
   "metadata": {},
   "outputs": [],
   "source": [
    "# External python modules/packages\n",
    "import nltk\n",
    "\n",
    "# My own python modules\n",
    "# from utils.my_global import *\n"
   ]
  },
  {
   "cell_type": "markdown",
   "metadata": {},
   "source": [
    "### Global declarations!\n"
   ]
  },
  {
   "cell_type": "code",
   "execution_count": 9,
   "metadata": {},
   "outputs": [],
   "source": [
    "# Global Chat \n",
    "colors = {\n",
    "    'green': '\\033[92m',\n",
    "    'yellow': '\\033[93m',\n",
    "    'red': '\\033[91m',\n",
    "    'grey': '\\033[90m',\n",
    "    'white': '\\033[97m',\n",
    "    'end': '\\033[0m',\n",
    "}\n",
    "\n",
    "\n",
    "def green(message):\n",
    "    return f\"{colors['green']}{message}{colors['end']}\"\n",
    "\n",
    "\n",
    "def yellow(message):\n",
    "    return f\"{colors['yellow']}{message}{colors['end']}\"\n",
    "\n",
    "\n",
    "def red(message):\n",
    "    return f\"{colors['red']}{message}{colors['end']}\"\n",
    "\n",
    "\n",
    "def grey(message):\n",
    "    return f\"{colors['grey']}{message}{colors['end']}\"\n",
    "\n",
    "\n",
    "def white(message):\n",
    "    return f\"{colors['white']}{message}{colors['end']}\"\n",
    "\n",
    "\n",
    "def docbot_says(message):\n",
    "    return print(green(f\"{message}\"))\n",
    "\n",
    "def user_says():\n",
    "\tprint()\n",
    "\treturn input()\n"
   ]
  },
  {
   "cell_type": "markdown",
   "metadata": {},
   "source": [
    "---\n",
    "\n",
    "## Greeting"
   ]
  },
  {
   "cell_type": "code",
   "execution_count": 10,
   "metadata": {},
   "outputs": [
    {
     "name": "stdout",
     "output_type": "stream",
     "text": [
      "\u001b[92mHello, my name is DocBot! I am a chatbot assistant for computer programmers!\u001b[0m\n",
      "\u001b[92mWhat's your name?\u001b[0m\n",
      "\n",
      "My name is: caleb \n"
     ]
    }
   ],
   "source": [
    "docbot_says(\"Hello, my name is DocBot! I am a chatbot assistant for computer programmers!\")\n",
    "docbot_says(\"What's your name?\")\n",
    "q = user_says()\n",
    "print(f\"My name is: {q}\")"
   ]
  }
 ],
 "metadata": {
  "interpreter": {
   "hash": "c6e4e9f98eb68ad3b7c296f83d20e6de614cb42e90992a65aa266555a3137d0d"
  },
  "kernelspec": {
   "display_name": "Python 3.9.7 64-bit ('base': conda)",
   "language": "python",
   "name": "python3"
  },
  "language_info": {
   "codemirror_mode": {
    "name": "ipython",
    "version": 3
   },
   "file_extension": ".py",
   "mimetype": "text/x-python",
   "name": "python",
   "nbconvert_exporter": "python",
   "pygments_lexer": "ipython3",
   "version": "3.9.7"
  },
  "orig_nbformat": 4
 },
 "nbformat": 4,
 "nbformat_minor": 2
}
