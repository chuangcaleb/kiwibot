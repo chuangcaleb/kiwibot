{
 "cells": [
  {
   "cell_type": "markdown",
   "metadata": {},
   "source": [
    "# **HAI Coursework 1: AN INTERACTIVE NLP-BASED AI SYSTEM**\n",
    "\n",
    "## Project Title: Chatbot Assistant for Computer Programmers\n",
    "\n",
    "20204134 Chuang Caleb hcycc2\n",
    "\n",
    "BSc Hons Computer Science with Artificial Intelligence\n",
    "\n",
    "---\n"
   ]
  },
  {
   "cell_type": "markdown",
   "metadata": {},
   "source": [
    "## **INITIALIZATION**\n",
    "\n",
    "### Imports\n"
   ]
  },
  {
   "cell_type": "code",
   "execution_count": 59,
   "metadata": {},
   "outputs": [],
   "source": [
    "# External python modules/packages\n",
    "import nltk\n",
    "from nltk.stem import WordNetLemmatizer\n",
    "\n",
    "import json\n",
    "\n",
    "# My own python modules\n",
    "# from utils.my_global import *\n"
   ]
  },
  {
   "cell_type": "markdown",
   "metadata": {},
   "source": [
    "### Loading Intents Data\n"
   ]
  },
  {
   "cell_type": "code",
   "execution_count": 60,
   "metadata": {},
   "outputs": [],
   "source": [
    "data_file = open('intents.json').read()\n",
    "intents = json.loads(data_file)\n",
    "tok_doc = {}\n",
    "classes = []\n",
    "documents = []\n",
    "vocabulary = []"
   ]
  },
  {
   "cell_type": "markdown",
   "metadata": {},
   "source": [
    "## Pre-processing\n"
   ]
  },
  {
   "cell_type": "code",
   "execution_count": 61,
   "metadata": {},
   "outputs": [],
   "source": [
    "from itertools import chain\n",
    "\n",
    "# Tokenization and document/class tagging\n",
    "\n",
    "\"\"\"\n",
    "- tok_doc: class - tokenized phrases\n",
    "- documents: pattern - its class\n",
    "- classes: all classes \n",
    "\"\"\"\n",
    "\n",
    "for intent in intents['intents']:\n",
    "\n",
    "    # Tokenize every word\n",
    "    tok_doc[intent['tag']] = list(chain.from_iterable([nltk.word_tokenize(pattern) for pattern in intent['patterns']]))\n",
    "\n",
    "    for pattern in intent['patterns']:\n",
    "\n",
    "        # adding documents\n",
    "        documents.append((pattern, intent['tag']))\n",
    "\n",
    "        # adding classes to our class list\n",
    "        if intent['tag'] not in classes:\n",
    "            classes.append(intent['tag'])"
   ]
  },
  {
   "cell_type": "code",
   "execution_count": 62,
   "metadata": {},
   "outputs": [
    {
     "name": "stdout",
     "output_type": "stream",
     "text": [
      "47 documents\n",
      "9 classes ['adverse_drug', 'blood_pressure', 'blood_pressure_search', 'goodbye', 'greeting', 'hospital_search', 'options', 'pharmacy_search', 'thanks']\n",
      "72 unique lemmatized words [\"'s\", '?', 'adverse', 'anyone', 'awesome', 'behavior', 'blood', 'bye', 'causing', 'chatting', 'check', 'could', 'data', 'day', 'detail', 'dont', 'drug', 'entry', 'find', 'give', 'good', 'goodbye', 'hello', 'help', 'helpful', 'helping', 'hey', 'hi', 'history', 'hola', 'hospital', 'how', 'i', 'id', 'is', 'later', 'list', 'load', 'locate', 'log', 'looking', 'lookup', 'management', 'module', 'nearby', 'next', 'nice', 'offered', 'open', 'patient', 'pharmacy', 'pressure', 'provide', 'reaction', 'related', 'result', 'search', 'searching', 'see', 'show', 'suitable', 'support', 'task', 'thank', 'thanks', 'that', 'till', 'time', 'transfer', 'want', 'what', 'which']\n"
     ]
    }
   ],
   "source": [
    "from nltk.corpus import stopwords\n",
    "\n",
    "english_stopwords = stopwords.words('english')\n",
    "ignore_words = [',']\n",
    "ignore_words.extend(english_stopwords)\n",
    "lemmatizer = WordNetLemmatizer()\n",
    "\n",
    "# lemmatize, lowercase and remove stopwords\n",
    "for intent in classes:\n",
    "    tok_doc[intent] = [lemmatizer.lemmatize(word.lower()) for word in tok_doc[intent] if word not in ignore_words]\n",
    "\n",
    "# vocabulary: distinct set of all words in documents\n",
    "vocabulary = sorted(list(set(chain.from_iterable([tok_doc[intent] for intent in classes]))))\n",
    "\n",
    "# sort classes\n",
    "classes = sorted(list(set(classes)))\n",
    "# documents = combination between patterns and intents\n",
    "print(len(documents), \"documents\")\n",
    "# classes = intents\n",
    "print(len(classes), \"classes\", classes)\n",
    "# words = all words, vocabulary\n",
    "print(len(vocabulary), \"unique lemmatized words\", vocabulary)"
   ]
  },
  {
   "cell_type": "markdown",
   "metadata": {},
   "source": [
    "### Create the bag-of-word model"
   ]
  },
  {
   "cell_type": "code",
   "execution_count": 66,
   "metadata": {},
   "outputs": [
    {
     "name": "stdout",
     "output_type": "stream",
     "text": [
      "VOCABULARY: ['?', 'adverse', 'anyone', 'awesome', 'behavior', 'blood', 'bye', 'causing', 'chatting']\n",
      "adverse_drug: [2. 5. 0. 0. 1. 0. 0. 1. 0.]\n",
      "blood_pressure: [0. 0. 0. 0. 0. 5. 0. 0. 0.]\n",
      "blood_pressure_search: [0. 0. 0. 0. 0. 5. 0. 0. 0.]\n",
      "goodbye: [0. 0. 0. 0. 0. 0. 2. 0. 1.]\n",
      "greeting: [1. 0. 1. 0. 0. 0. 0. 0. 0.]\n",
      "hospital_search: [0. 0. 0. 0. 0. 0. 0. 0. 0.]\n",
      "options: [4. 0. 0. 0. 0. 0. 0. 0. 0.]\n",
      "pharmacy_search: [0. 0. 0. 0. 0. 0. 0. 0. 0.]\n",
      "thanks: [0. 0. 0. 1. 0. 0. 0. 0. 0.]\n"
     ]
    }
   ],
   "source": [
    "import numpy as np\n",
    "\n",
    "training = []\n",
    "output_empty = [0] * len(classes)\n",
    "\n",
    "print(f'VOCABULARY: {vocabulary[1:10]}')\n",
    "\n",
    "bow = {}\n",
    "for intent in classes:\n",
    "    bow[intent] = np.zeros(len(vocabulary))\n",
    "    for stem in tok_doc[intent]:\n",
    "        index = vocabulary.index(stem)\n",
    "        bow[intent][index] += 1\n",
    "    print(f'{intent}: {bow[intent][1:10]}')"
   ]
  },
  {
   "cell_type": "markdown",
   "metadata": {},
   "source": [
    "Weighing function on bag of words model\n"
   ]
  },
  {
   "cell_type": "code",
   "execution_count": 68,
   "metadata": {},
   "outputs": [],
   "source": [
    "from math import log10\n",
    "\n",
    "def logfreq_weighting(vector):\n",
    "    lf_vector = []\n",
    "    for frequency in vector:\n",
    "        lf_vector.append(log10(1+frequency))\n",
    "    return np.array(lf_vector)"
   ]
  },
  {
   "cell_type": "code",
   "execution_count": 70,
   "metadata": {},
   "outputs": [],
   "source": [
    "for intent in bow:\n",
    "    bow[intent] = logfreq_weighting(bow[intent])\n",
    "    # print(f'{intent}: {bow[intent][1:10]}')"
   ]
  },
  {
   "cell_type": "markdown",
   "metadata": {},
   "source": [
    "Cosine similarity function"
   ]
  },
  {
   "cell_type": "code",
   "execution_count": 74,
   "metadata": {},
   "outputs": [],
   "source": [
    "from scipy import spatial\n",
    "\n",
    "def sim_cosine(vector_1, vector_2):\n",
    "    similarity = 1 - spatial.distance.cosine(vector_1, vector_2)\n",
    "    return similarity"
   ]
  },
  {
   "cell_type": "code",
   "execution_count": 83,
   "metadata": {},
   "outputs": [
    {
     "name": "stdout",
     "output_type": "stream",
     "text": [
      "Similarity with adverse_drug: 0.0\n",
      "Similarity with blood_pressure: 0.0\n",
      "Similarity with blood_pressure_search: 0.0\n",
      "Similarity with goodbye: 0.0\n",
      "Similarity with greeting: 0.0\n",
      "Similarity with hospital_search: 0.0\n",
      "Similarity with options: 0.3631908228367414\n",
      "Similarity with pharmacy_search: 0.0\n",
      "Similarity with thanks: 0.0\n"
     ]
    }
   ],
   "source": [
    "query = \"pharmacy\"\n",
    "\n",
    "# Tokenize\n",
    "tokenizer = nltk.RegexpTokenizer(r\"\\w+\")\n",
    "tok_query = tokenizer.tokenize(query)\n",
    "\n",
    "# Remove stopwords and lower casing\n",
    "english_stopwords = stopwords.words('english')\n",
    "filtered_query = [word.lower() for word in tok_query\n",
    "                  if word.lower() not in english_stopwords]\n",
    "\n",
    "# Stemming --> Lemmatising\n",
    "stemmed_query = [lemmatizer.lemmatize(word) for word in filtered_query]\n",
    "\n",
    "vector_query = np.zeros(len(vocabulary))\n",
    "for stem in stemmed_query:\n",
    "    try:\n",
    "        index = vocabulary.index(stem)\n",
    "        vector_query[index] += 1\n",
    "    except ValueError:\n",
    "        continue\n",
    "vector_query = logfreq_weighting(vector_query)\n",
    "\n",
    "for intent in bow.keys():\n",
    "    similarity = sim_cosine(bow[intent], vector_query)\n",
    "    print(f'Similarity with {intent}: {similarity}')"
   ]
  },
  {
   "cell_type": "markdown",
   "metadata": {},
   "source": [
    "---\n",
    "\n",
    "## **TRAINING**"
   ]
  },
  {
   "cell_type": "markdown",
   "metadata": {},
   "source": [
    "from sklearn.pipeline import Pipeline\n",
    "text_clf = Pipeline([('vect', CountVectorizer()),\n",
    "                     ('tfidf', TfidfTransformer()),\n",
    "                     ('clf', MultinomialNB()),\n",
    "                     ])\n",
    "text_clf = text_clf.fit(twenty_train.data, twenty_train.target)\n"
   ]
  }
 ],
 "metadata": {
  "interpreter": {
   "hash": "c6e4e9f98eb68ad3b7c296f83d20e6de614cb42e90992a65aa266555a3137d0d"
  },
  "kernelspec": {
   "display_name": "Python 3.9.7 64-bit ('base': conda)",
   "language": "python",
   "name": "python3"
  },
  "language_info": {
   "codemirror_mode": {
    "name": "ipython",
    "version": 3
   },
   "file_extension": ".py",
   "mimetype": "text/x-python",
   "name": "python",
   "nbconvert_exporter": "python",
   "pygments_lexer": "ipython3",
   "version": "3.9.7"
  },
  "orig_nbformat": 4
 },
 "nbformat": 4,
 "nbformat_minor": 2
}
