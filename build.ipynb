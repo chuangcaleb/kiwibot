{
 "cells": [
  {
   "cell_type": "markdown",
   "metadata": {},
   "source": [
    "# **HAI Coursework 1: AN INTERACTIVE NLP-BASED AI SYSTEM**\n",
    "\n",
    "## Project Title: Chatbot Assistant for Computer Programmers\n",
    "\n",
    "20204134 Chuang Caleb hcycc2\n",
    "\n",
    "BSc Hons Computer Science with Artificial Intelligence\n",
    "\n",
    "---\n"
   ]
  },
  {
   "cell_type": "markdown",
   "metadata": {},
   "source": [
    "## **INITIALIZATION**\n",
    "\n",
    "### Imports\n"
   ]
  },
  {
   "cell_type": "code",
   "execution_count": 1,
   "metadata": {},
   "outputs": [],
   "source": [
    "# External python modules/packages\n",
    "import nltk\n",
    "from nltk.stem import WordNetLemmatizer\n",
    "\n",
    "import json\n",
    "\n",
    "# My own python modules\n",
    "# from utils.my_global import *\n"
   ]
  },
  {
   "cell_type": "markdown",
   "metadata": {},
   "source": [
    "### Loading Intents Data\n"
   ]
  },
  {
   "cell_type": "code",
   "execution_count": 2,
   "metadata": {},
   "outputs": [],
   "source": [
    "data_file = open('intents.json').read()\n",
    "intents = json.loads(data_file)\n",
    "tok_doc = {}\n",
    "classes = []\n",
    "documents = []\n",
    "vocabulary = []"
   ]
  },
  {
   "cell_type": "markdown",
   "metadata": {},
   "source": [
    "## Pre-processing\n"
   ]
  },
  {
   "cell_type": "code",
   "execution_count": 3,
   "metadata": {},
   "outputs": [],
   "source": [
    "from itertools import chain\n",
    "\n",
    "# Tokenization and document/class tagging\n",
    "\n",
    "\"\"\"\n",
    "- tok_doc: class - tokenized phrases\n",
    "- documents: pattern - its class\n",
    "- classes: all classes \n",
    "\"\"\"\n",
    "\n",
    "for intent in intents['intents']:\n",
    "\n",
    "    # Tokenize every word\n",
    "    tok_doc[intent['tag']] = list(chain.from_iterable([nltk.word_tokenize(pattern) for pattern in intent['patterns']]))\n",
    "\n",
    "    for pattern in intent['patterns']:\n",
    "\n",
    "        # adding documents\n",
    "        documents.append((pattern, intent['tag']))\n",
    "\n",
    "        # adding classes to our class list\n",
    "        if intent['tag'] not in classes:\n",
    "            classes.append(intent['tag'])"
   ]
  },
  {
   "cell_type": "code",
   "execution_count": 4,
   "metadata": {},
   "outputs": [
    {
     "name": "stdout",
     "output_type": "stream",
     "text": [
      "47 documents\n",
      "9 classes ['adverse_drug', 'blood_pressure', 'blood_pressure_search', 'goodbye', 'greeting', 'hospital_search', 'options', 'pharmacy_search', 'thanks']\n",
      "72 unique lemmatized words [\"'s\", '?', 'adverse', 'anyone', 'awesome', 'behavior', 'blood', 'bye', 'causing', 'chatting', 'check', 'could', 'data', 'day', 'detail', 'dont', 'drug', 'entry', 'find', 'give', 'good', 'goodbye', 'hello', 'help', 'helpful', 'helping', 'hey', 'hi', 'history', 'hola', 'hospital', 'how', 'i', 'id', 'is', 'later', 'list', 'load', 'locate', 'log', 'looking', 'lookup', 'management', 'module', 'nearby', 'next', 'nice', 'offered', 'open', 'patient', 'pharmacy', 'pressure', 'provide', 'reaction', 'related', 'result', 'search', 'searching', 'see', 'show', 'suitable', 'support', 'task', 'thank', 'thanks', 'that', 'till', 'time', 'transfer', 'want', 'what', 'which']\n"
     ]
    }
   ],
   "source": [
    "from nltk.corpus import stopwords\n",
    "\n",
    "english_stopwords = stopwords.words('english')\n",
    "ignore_words = [',']\n",
    "ignore_words.extend(english_stopwords)\n",
    "lemmatizer = WordNetLemmatizer()\n",
    "\n",
    "# lemmatize, lowercase and remove stopwords\n",
    "for intent in classes:\n",
    "    tok_doc[intent] = [lemmatizer.lemmatize(word.lower()) for word in tok_doc[intent] if word not in ignore_words]\n",
    "\n",
    "# vocabulary: distinct set of all words in documents\n",
    "vocabulary = sorted(list(set(chain.from_iterable([tok_doc[intent] for intent in classes]))))\n",
    "\n",
    "# sort classes\n",
    "classes = sorted(list(set(classes)))\n",
    "# documents = combination between patterns and intents\n",
    "print(len(documents), \"documents\")\n",
    "# classes = intents\n",
    "print(len(classes), \"classes\", classes)\n",
    "# words = all words, vocabulary\n",
    "print(len(vocabulary), \"unique lemmatized words\", vocabulary)"
   ]
  },
  {
   "cell_type": "markdown",
   "metadata": {},
   "source": [
    "### Create the bag-of-word model"
   ]
  },
  {
   "cell_type": "code",
   "execution_count": 5,
   "metadata": {},
   "outputs": [],
   "source": [
    "import numpy as np\n",
    "\n",
    "training = []\n",
    "output_empty = [0] * len(classes)\n",
    "\n",
    "# print(f'VOCABULARY: {vocabulary[1:10]}')\n",
    "\n",
    "bow = {}\n",
    "for intent in classes:\n",
    "    bow[intent] = np.zeros(len(vocabulary))\n",
    "    for stem in tok_doc[intent]:\n",
    "        index = vocabulary.index(stem)\n",
    "        bow[intent][index] += 1\n",
    "    # print(f'{intent}: {bow[intent][1:10]}')"
   ]
  },
  {
   "cell_type": "markdown",
   "metadata": {},
   "source": [
    "Weighing function on bag of words model\n"
   ]
  },
  {
   "cell_type": "code",
   "execution_count": 6,
   "metadata": {},
   "outputs": [],
   "source": [
    "from math import log10\n",
    "\n",
    "def logfreq_weighting(vector):\n",
    "    lf_vector = []\n",
    "    for frequency in vector:\n",
    "        lf_vector.append(log10(1+frequency))\n",
    "    return np.array(lf_vector)"
   ]
  },
  {
   "cell_type": "code",
   "execution_count": 7,
   "metadata": {},
   "outputs": [],
   "source": [
    "for intent in bow:\n",
    "    bow[intent] = logfreq_weighting(bow[intent])\n",
    "    # print(f'{intent}: {bow[intent][1:10]}')"
   ]
  },
  {
   "cell_type": "markdown",
   "metadata": {},
   "source": [
    "Cosine similarity function"
   ]
  },
  {
   "cell_type": "code",
   "execution_count": 8,
   "metadata": {},
   "outputs": [],
   "source": [
    "from scipy import spatial\n",
    "\n",
    "def sim_cosine(vector_1, vector_2):\n",
    "    similarity = 1 - spatial.distance.cosine(vector_1, vector_2)\n",
    "    return similarity"
   ]
  },
  {
   "cell_type": "markdown",
   "metadata": {},
   "source": [
    "Prediction function"
   ]
  },
  {
   "cell_type": "code",
   "execution_count": 9,
   "metadata": {},
   "outputs": [],
   "source": [
    "def predictAllIntents(query):\n",
    "\n",
    "\tsim_data = dict.fromkeys(classes)\n",
    "\n",
    "\ttok_query = nltk.word_tokenize(query)\n",
    "\n",
    "\t# Remove stopwords, lowercase\n",
    "\tenglish_stopwords = stopwords.words('english')\n",
    "\tfiltered_query = [word.lower() for word in tok_query\n",
    "\t\t\t\t\tif word.lower() not in english_stopwords]\n",
    "\n",
    "\t# Stemming --> Lemmatising\n",
    "\tstemmed_query = [lemmatizer.lemmatize(word) for word in filtered_query]\n",
    "\n",
    "\tvector_query = np.zeros(len(vocabulary))\n",
    "\tfor stem in stemmed_query:\n",
    "\t\ttry:\n",
    "\t\t\tindex = vocabulary.index(stem)\n",
    "\t\t\tvector_query[index] += 1\n",
    "\t\texcept ValueError:\n",
    "\t\t\tcontinue\n",
    "\tvector_query = logfreq_weighting(vector_query)\n",
    "\n",
    "\tfor intent in bow.keys():\n",
    "\t\ttemp_similarity = sim_cosine(bow[intent], vector_query)\n",
    "\t\tsim_data[intent] = temp_similarity\n",
    "\t\tprint(f'Similarity with {intent}: {temp_similarity}')\n",
    "\t\n",
    "\tsorted_sim_data = sorted(sim_data.items(), key=lambda item: item[1],reverse=True)\n",
    "\treturn sorted_sim_data\n",
    "\n",
    "def predictLikeliestIntent(query):\n",
    "\tallIntents = predictAllIntents(query)\n",
    "\treturn list(allIntents)[1][0]"
   ]
  },
  {
   "cell_type": "code",
   "execution_count": 10,
   "metadata": {},
   "outputs": [
    {
     "name": "stdout",
     "output_type": "stream",
     "text": [
      "Similarity with adverse_drug: 0.0\n",
      "Similarity with blood_pressure: 0.7186530296778945\n",
      "Similarity with blood_pressure_search: 0.6591867483354439\n",
      "Similarity with goodbye: 0.0\n",
      "Similarity with greeting: 0.0\n",
      "Similarity with hospital_search: 0.0\n",
      "Similarity with options: 0.0\n",
      "Similarity with pharmacy_search: 0.0\n",
      "Similarity with thanks: 0.0\n",
      "\n",
      "Likeliest Intent: blood_pressure_search\n"
     ]
    }
   ],
   "source": [
    "print(f'\\nLikeliest Intent: {predictLikeliestIntent(\"blood pressure\")}')"
   ]
  },
  {
   "cell_type": "markdown",
   "metadata": {},
   "source": [
    "---\n",
    "\n",
    "## **TRAINING**"
   ]
  },
  {
   "cell_type": "code",
   "execution_count": 11,
   "metadata": {},
   "outputs": [],
   "source": [
    "# from sklearn.pipeline import Pipeline\n",
    "# from sklearn.feature_extraction.text import CountVectorizer, TfidfTransformer\n",
    "# from sklearn.naive_bayes import MultinomialNB\n",
    "# from sklearn.linear_model import LogisticRegression\n",
    "\n",
    "# text_clf = Pipeline([('vect', CountVectorizer()),\n",
    "#                      ('tfidf', TfidfTransformer()),\n",
    "#                      ('clf', MultinomialNB()),\n",
    "#                      ])\n",
    "# text_clf = text_clf.fit(twenty_train.data, twenty_train.target)\n"
   ]
  }
 ],
 "metadata": {
  "interpreter": {
   "hash": "c6e4e9f98eb68ad3b7c296f83d20e6de614cb42e90992a65aa266555a3137d0d"
  },
  "kernelspec": {
   "display_name": "Python 3.9.7 64-bit ('base': conda)",
   "language": "python",
   "name": "python3"
  },
  "language_info": {
   "codemirror_mode": {
    "name": "ipython",
    "version": 3
   },
   "file_extension": ".py",
   "mimetype": "text/x-python",
   "name": "python",
   "nbconvert_exporter": "python",
   "pygments_lexer": "ipython3",
   "version": "3.9.7"
  },
  "orig_nbformat": 4
 },
 "nbformat": 4,
 "nbformat_minor": 2
}
